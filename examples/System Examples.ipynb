{
 "cells": [
  {
   "cell_type": "code",
   "execution_count": null,
   "id": "dba5438b",
   "metadata": {},
   "outputs": [],
   "source": [
    "import matplotlib as plt\n",
    "\n",
    "import dicechanics as ds"
   ]
  },
  {
   "cell_type": "markdown",
   "id": "48a38884",
   "metadata": {},
   "source": [
    "## Example: FITD"
   ]
  },
  {
   "cell_type": "markdown",
   "id": "f6d57cd0",
   "metadata": {},
   "source": [
    "## Example: Pbta"
   ]
  },
  {
   "cell_type": "markdown",
   "id": "a33bf56f",
   "metadata": {},
   "source": [
    "## Example: Genesys"
   ]
  },
  {
   "cell_type": "markdown",
   "id": "438782ed",
   "metadata": {},
   "source": [
    "## Example: Rogue Trader, Feint vs Normal attack"
   ]
  },
  {
   "cell_type": "markdown",
   "id": "2e0ac150",
   "metadata": {},
   "source": [
    "In the FFG system Rogue Trader, attacking is resolved with an attack roll from the attacker and a separate independent parry/dodge roll from the defender. To succeed the attacker both needs to succeed and the defender needs to fail.\n",
    "\n",
    "This means that if the defender as a Weapon Skill of 90, then the attacker will always have less than 10% chance to hit. To obfuscate this the attacker can choose to feint, which is an opposed roll (reroll until some one wins). If the feint is successful then the defender can't parry/dodge."
   ]
  },
  {
   "cell_type": "code",
   "execution_count": 3,
   "id": "be09e884",
   "metadata": {},
   "outputs": [
    {
     "name": "stdout",
     "output_type": "stream",
     "text": [
      "Attack with feint Die with mu - 0.45, sigma - 0.50\n",
      "--------------------------------\n",
      " 0|#################### 55.00%\n",
      " 1|################ 45.00%\n",
      "\n",
      "Normal attack Die with mu - 0.09, sigma - 0.29\n",
      "--------------------------------\n",
      " 0|#################### 91.00%\n",
      " 1|## 9.00%\n",
      "\n",
      "All-out attack Die with mu - 0.10, sigma - 0.30\n",
      "--------------------------------\n",
      " 0|#################### 90.00%\n",
      " 1|## 10.00%\n",
      "\n"
     ]
    }
   ],
   "source": [
    "SA = 90\n",
    "SB = 90\n",
    "A = ds.d100 <= SA # if attacker Weapon Skill is 50, then the chance to hit is the same on normal and feint\n",
    "B = ds.d100 <= SB\n",
    "feint = (A - B).reroll(0, depth=\"inf\") > 0\n",
    "print(\"Attack with feint\",(feint + A) > 1)\n",
    "n = (A - B) > 0\n",
    "print(\"Normal attack\",n)\n",
    "A = ds.d100 <= SA +30 # if attacker Weapon Skill is 50, then the chance to hit is the same on normal and feint\n",
    "n = (A- B) > 0\n",
    "print(\"All-out attack\",n)"
   ]
  },
  {
   "cell_type": "markdown",
   "id": "0294d47b",
   "metadata": {},
   "source": [
    "## DnD 5e, Fighters damage potential with 4 attacks"
   ]
  },
  {
   "cell_type": "markdown",
   "id": "79311389",
   "metadata": {},
   "source": [
    "In Dungeons and Dragons 5th edition a max level fighter can attack 4 times in a row. It could then be interesting to look the damage potential of this character. To model this we just need a binary dice which indicate if 1 attack hit against an enemy, then roll that 4 times indicating the 4 attack. Then we just roll the damage the character deals that amount of times."
   ]
  },
  {
   "cell_type": "code",
   "execution_count": 2,
   "id": "85ef5566",
   "metadata": {},
   "outputs": [
    {
     "name": "stdout",
     "output_type": "stream",
     "text": [
      "Die with mu - 28.80, sigma - 12.34\n",
      "----------------------------------\n",
      " 0|############# 2.56%\n",
      " 7|## 0.43%\n",
      " 8|#### 0.85%\n",
      " 9|####### 1.28%\n",
      "10|######### 1.71%\n",
      "11|########### 2.13%\n",
      "12|############# 2.56%\n",
      "13|########### 2.13%\n",
      "14|######### 1.73%\n",
      "15|####### 1.39%\n",
      "16|###### 1.12%\n",
      "17|##### 0.96%\n",
      "18|##### 0.93%\n",
      "19|######## 1.49%\n",
      "20|########### 2.13%\n",
      "21|############## 2.77%\n",
      "22|################# 3.34%\n",
      "23|################### 3.75%\n",
      "24|#################### 3.93%\n",
      "25|################### 3.83%\n",
      "26|################## 3.52%\n",
      "27|################ 3.11%\n",
      "28|############## 2.69%\n",
      "29|############ 2.35%\n",
      "30|########### 2.17%\n",
      "31|########### 2.20%\n",
      "32|############ 2.38%\n",
      "33|############# 2.65%\n",
      "34|############### 2.93%\n",
      "35|################ 3.15%\n",
      "36|################# 3.26%\n",
      "37|################ 3.21%\n",
      "38|############### 3.02%\n",
      "39|############## 2.74%\n",
      "40|############ 2.40%\n",
      "41|########## 2.05%\n",
      "42|######### 1.74%\n",
      "43|######## 1.50%\n",
      "44|####### 1.32%\n",
      "45|###### 1.21%\n",
      "46|###### 1.16%\n",
      "47|###### 1.12%\n",
      "48|###### 1.09%\n",
      "49|##### 1.04%\n",
      "50|##### 0.97%\n",
      "51|#### 0.88%\n",
      "52|#### 0.76%\n",
      "53|### 0.64%\n",
      "54|### 0.51%\n",
      "55|## 0.39%\n",
      "56|# 0.28%\n",
      "57|# 0.20%\n",
      "58|# 0.13%\n",
      "59| 0.08%\n",
      "60| 0.05%\n",
      "61| 0.03%\n",
      "62| 0.01%\n",
      "63| 0.01%\n",
      "64| 0.00%\n",
      "65| 0.00%\n",
      "66| 0.00%\n",
      "67| 0.00%\n",
      "68| 0.00%\n",
      "\n"
     ]
    },
    {
     "name": "stderr",
     "output_type": "stream",
     "text": [
      "D:\\Programmering\\DICEStatistics\\dicechanics\\Die.py:700: RuntimeWarning: A 0d have been rolled\n",
      "  wa.warn(\"A 0d have been rolled\", RuntimeWarning)\n"
     ]
    }
   ],
   "source": [
    "ac = 20\n",
    "nattacks = 4\n",
    "dmg = 2@ds.d6 + 5\n",
    "tohit = (ds.d20 + 11) >= ac\n",
    "hits = nattacks@tohit\n",
    "print(hits@dmg)"
   ]
  },
  {
   "cell_type": "code",
   "execution_count": null,
   "id": "59d3e1c4",
   "metadata": {},
   "outputs": [],
   "source": []
  }
 ],
 "metadata": {
  "kernelspec": {
   "display_name": ".venv",
   "language": "python",
   "name": "python3"
  },
  "language_info": {
   "codemirror_mode": {
    "name": "ipython",
    "version": 3
   },
   "file_extension": ".py",
   "mimetype": "text/x-python",
   "name": "python",
   "nbconvert_exporter": "python",
   "pygments_lexer": "ipython3",
   "version": "3.13.0"
  }
 },
 "nbformat": 4,
 "nbformat_minor": 5
}
