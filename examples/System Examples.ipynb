{
 "cells": [
  {
   "cell_type": "code",
   "execution_count": 3,
   "id": "dba5438b",
   "metadata": {},
   "outputs": [],
   "source": [
    "import matplotlib as plt\n",
    "import dicechanics as ds"
   ]
  },
  {
   "cell_type": "markdown",
   "id": "48a38884",
   "metadata": {},
   "source": [
    "## Example: FITD"
   ]
  },
  {
   "cell_type": "markdown",
   "id": "f6d57cd0",
   "metadata": {},
   "source": [
    "## Example: Pbta"
   ]
  },
  {
   "cell_type": "markdown",
   "id": "a33bf56f",
   "metadata": {},
   "source": [
    "## Example: Genesys"
   ]
  },
  {
   "cell_type": "markdown",
   "id": "438782ed",
   "metadata": {},
   "source": [
    "## Example: Rogue Trader, Feint vs Normal attack"
   ]
  },
  {
   "cell_type": "code",
   "execution_count": 5,
   "id": "be09e884",
   "metadata": {},
   "outputs": [
    {
     "name": "stdout",
     "output_type": "stream",
     "text": [
      "Die with mu - 0.45, sigma - 0.50\n",
      "--------------------------------\n",
      " 0|#################### 55.00%\n",
      " 1|################ 45.00%\n",
      "\n",
      "Die with mu - 0.09, sigma - 0.29\n",
      "--------------------------------\n",
      " 0|#################### 91.00%\n",
      " 1|## 9.00%\n",
      "\n"
     ]
    }
   ],
   "source": [
    "\n",
    "A = ds.d100 <= 90\n",
    "B = ds.d100 <= 90\n",
    "feint = (A - B).reroll(0, depth=\"inf\") > 0\n",
    "print((feint + A) > 1)\n",
    "n = (A - B) > 0\n",
    "print(n)"
   ]
  },
  {
   "cell_type": "markdown",
   "id": "0294d47b",
   "metadata": {},
   "source": [
    "## DnD 5e, Fighters damage potential with 4 attacks"
   ]
  },
  {
   "cell_type": "code",
   "execution_count": null,
   "id": "85ef5566",
   "metadata": {},
   "outputs": [
    {
     "name": "stderr",
     "output_type": "stream",
     "text": [
      "d:\\Programmering\\DICEStatistics\\.venv\\Lib\\site-packages\\dicechanics\\Die.py:700: RuntimeWarning: A 0d have been rolled\n",
      "  wa.warn(\"A 0d have been rolled\", RuntimeWarning)\n"
     ]
    }
   ],
   "source": [
    "ac = 20\n",
    "pc = (ds.d20 + 11) >= ac\n",
    "hit = 4@pc\n",
    "dmg = 2@ds.d6 + 5\n",
    "print(hit@dmg)\n"
   ]
  },
  {
   "cell_type": "code",
   "execution_count": null,
   "id": "d2d7c4bc",
   "metadata": {},
   "outputs": [],
   "source": []
  }
 ],
 "metadata": {
  "kernelspec": {
   "display_name": ".venv",
   "language": "python",
   "name": "python3"
  },
  "language_info": {
   "codemirror_mode": {
    "name": "ipython",
    "version": 3
   },
   "file_extension": ".py",
   "mimetype": "text/x-python",
   "name": "python",
   "nbconvert_exporter": "python",
   "pygments_lexer": "ipython3",
   "version": "3.13.0"
  }
 },
 "nbformat": 4,
 "nbformat_minor": 5
}
